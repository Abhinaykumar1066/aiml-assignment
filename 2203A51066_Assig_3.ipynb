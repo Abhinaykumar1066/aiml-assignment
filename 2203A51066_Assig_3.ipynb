{
  "nbformat": 4,
  "nbformat_minor": 0,
  "metadata": {
    "colab": {
      "provenance": []
    },
    "kernelspec": {
      "name": "python3",
      "display_name": "Python 3"
    },
    "language_info": {
      "name": "python"
    }
  },
  "cells": [
    {
      "cell_type": "code",
      "source": [
        "tree = {\n",
        "    'A': {'B': {'D': {'H': -1, 'I': 4},\n",
        "                'E': {'J': 2, 'K': 6}},\n",
        "          'C': {'F': {'L': -3, 'M': -5},\n",
        "                'G': {'N': 0, 'O': 7}}\n",
        "         }\n",
        "}\n",
        "def min_max(node, maxi=True):\n",
        "    if type(node) is not dict:\n",
        "        return node\n",
        "    if maxi:\n",
        "        return max(min_max(child, False) for child in node.values())\n",
        "    else:\n",
        "        return min(min_max(child, True) for child in node.values())\n",
        "result = min_max(tree['A'])\n",
        "print(\" the root node A after applying Min-Max is\", result)"
      ],
      "metadata": {
        "id": "2dk-DccwADfN",
        "colab": {
          "base_uri": "https://localhost:8080/"
        },
        "outputId": "885dbe59-bf48-46c7-a183-8f9264147497"
      },
      "execution_count": 14,
      "outputs": [
        {
          "output_type": "stream",
          "name": "stdout",
          "text": [
            " the root node A after applying Min-Max is 4\n"
          ]
        }
      ]
    },
    {
      "cell_type": "code",
      "source": [
        "tree = {\n",
        "    'A': {'B': {'D': {'H': -1, 'I': 4},\n",
        "                'E': {'J': 2, 'K': 6}},\n",
        "          'C': {'F': {'L': -3, 'M': -5},\n",
        "                'G': {'N': 0, 'O': 7}}\n",
        "         }\n",
        "}\n",
        "\n",
        "def alpha_beta(node, alpha, beta, maxi=True):\n",
        "    if type(node) is not dict:\n",
        "        return node\n",
        "    if maxi:\n",
        "        max_val = float('-inf')\n",
        "        for child in node.values():\n",
        "            value = alpha_beta(child, alpha, beta, False)\n",
        "            max_val = max(max_val, value)\n",
        "            alpha = max(alpha, value)\n",
        "            if beta <= alpha:\n",
        "                break\n",
        "        return max_val\n",
        "    else:\n",
        "        min_val = float('inf')\n",
        "        for child in node.values():\n",
        "            value = alpha_beta(child, alpha, beta, True)\n",
        "            min_val = min(min_val, value)\n",
        "            beta = min(beta, value)\n",
        "            if beta <= alpha:\n",
        "                break\n",
        "        return min_val\n",
        "result = alpha_beta(tree['A'], float('-inf'), float('inf'))\n",
        "print(\"after applying Alpha-Beta pruning is\", result)"
      ],
      "metadata": {
        "colab": {
          "base_uri": "https://localhost:8080/"
        },
        "id": "DE4g70L6Fz-U",
        "outputId": "fdfdecff-130b-4e00-9c02-8aa68a4f82f0"
      },
      "execution_count": 17,
      "outputs": [
        {
          "output_type": "stream",
          "name": "stdout",
          "text": [
            "after applying Alpha-Beta pruning is 4\n"
          ]
        }
      ]
    }
  ]
}